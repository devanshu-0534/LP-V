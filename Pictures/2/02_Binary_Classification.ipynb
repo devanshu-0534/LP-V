{
 "cells": [
  {
   "cell_type": "code",
   "execution_count": 1,
   "id": "faba410b-71f9-4bb1-8976-50b6e786c10c",
   "metadata": {},
   "outputs": [],
   "source": [
    "import numpy as np\n",
    "from keras.datasets import imdb\n",
    "from keras import models\n",
    "from keras import layers\n",
    "from keras import optimizers\n",
    "from keras import losses\n",
    "from keras import metrics\n",
    "import matplotlib.pyplot as plt\n",
    "%matplotlib inline"
   ]
  },
  {
   "cell_type": "code",
   "execution_count": 2,
   "id": "bb24dd17-174f-414b-ab09-d03ab4c6adb8",
   "metadata": {},
   "outputs": [],
   "source": [
    "(train_data, train_labels),(test_data, test_labels)= imdb.load_data(num_words= 10000)"
   ]
  },
  {
   "cell_type": "code",
   "execution_count": 3,
   "id": "66191ca9-0687-44a3-ab37-1b3bc8446ac3",
   "metadata": {},
   "outputs": [
    {
     "data": {
      "text/plain": [
       "1"
      ]
     },
     "execution_count": 3,
     "metadata": {},
     "output_type": "execute_result"
    }
   ],
   "source": [
    "train_labels[0]"
   ]
  },
  {
   "cell_type": "code",
   "execution_count": 4,
   "id": "b5252c04-68ad-486b-8abd-def79866d638",
   "metadata": {},
   "outputs": [
    {
     "data": {
      "text/plain": [
       "0"
      ]
     },
     "execution_count": 4,
     "metadata": {},
     "output_type": "execute_result"
    }
   ],
   "source": [
    "test_labels[0]"
   ]
  },
  {
   "cell_type": "code",
   "execution_count": 5,
   "id": "5ff9a702-b6c9-4722-89a9-b2f21a72cb26",
   "metadata": {},
   "outputs": [
    {
     "name": "stdout",
     "output_type": "stream",
     "text": [
      "<class 'list'>\n"
     ]
    },
    {
     "data": {
      "text/plain": [
       "9999"
      ]
     },
     "execution_count": 5,
     "metadata": {},
     "output_type": "execute_result"
    }
   ],
   "source": [
    "print(type([max(sequence) for sequence in train_data]))\n",
    "max([max(sequence) for sequence in train_data])"
   ]
  },
  {
   "cell_type": "code",
   "execution_count": 6,
   "id": "8e39be1e-497b-4d27-9e2d-acd4e1af49d1",
   "metadata": {},
   "outputs": [
    {
     "data": {
      "text/plain": [
       "\"? this film was just brilliant casting location scenery story direction everyone's really suited the part they played and you could just imagine being there robert ? is an amazing actor and now the same being director ? father came from the same scottish island as myself so i loved the fact there was a real connection with this film the witty remarks throughout the film were great it was just brilliant so much that i bought the film as soon as it was released for ? and would recommend it to everyone to watch and the fly fishing was amazing really cried at the end it was so sad and you know what they say if you cry at a film it must have been good and this definitely was also ? to the two little boy's that played the ? of norman and paul they were just brilliant children are often left out of the ? list i think because the stars that play them all grown up are such a big profile for the whole film but these children are amazing and should be praised for what they have done don't you think the whole story was so lovely because it was true and was someone's life after all that was shared with us all\""
      ]
     },
     "execution_count": 6,
     "metadata": {},
     "output_type": "execute_result"
    }
   ],
   "source": [
    "word_index= imdb.get_word_index()\n",
    "reverse_word_index= dict([(value, key) for (key, value) in word_index.items()])\n",
    "decoded_review= ' '.join([reverse_word_index.get(i-3, '?') for i in train_data[0]])\n",
    "decoded_review"
   ]
  },
  {
   "cell_type": "code",
   "execution_count": 7,
   "id": "9f082041-cb69-465f-8ddf-2c4ea057e1eb",
   "metadata": {},
   "outputs": [
    {
     "data": {
      "text/plain": [
       "88584"
      ]
     },
     "execution_count": 7,
     "metadata": {},
     "output_type": "execute_result"
    }
   ],
   "source": [
    "len(reverse_word_index)"
   ]
  },
  {
   "cell_type": "code",
   "execution_count": 8,
   "id": "c635d16f-4395-4dc1-9c59-e18f2e282126",
   "metadata": {},
   "outputs": [],
   "source": [
    "def vectorize_sequences(sequences, dimension= 10000):\n",
    "    results= np.zeros((len(sequences), dimension))\n",
    "    for i, sequence in enumerate(sequences):\n",
    "        results[i, sequence]= 1\n",
    "    return results\n",
    "X_train= vectorize_sequences(train_data)\n",
    "X_test= vectorize_sequences(test_data)"
   ]
  },
  {
   "cell_type": "code",
   "execution_count": 9,
   "id": "b7640387-e4d3-4812-b5ff-e73842867889",
   "metadata": {},
   "outputs": [
    {
     "data": {
      "text/plain": [
       "array([0., 1., 1., ..., 0., 0., 0.])"
      ]
     },
     "execution_count": 9,
     "metadata": {},
     "output_type": "execute_result"
    }
   ],
   "source": [
    "X_train[0]"
   ]
  },
  {
   "cell_type": "code",
   "execution_count": 10,
   "id": "5162ff11-00ea-4c33-a055-42650947cbe2",
   "metadata": {},
   "outputs": [
    {
     "data": {
      "text/plain": [
       "(25000, 10000)"
      ]
     },
     "execution_count": 10,
     "metadata": {},
     "output_type": "execute_result"
    }
   ],
   "source": [
    "X_train.shape"
   ]
  },
  {
   "cell_type": "code",
   "execution_count": 11,
   "id": "4f224285-35e7-4d54-8a32-10335e9a46ac",
   "metadata": {},
   "outputs": [],
   "source": [
    "y_train=np.asarray(train_labels).astype('float32')\n",
    "y_test= np.asarray(test_labels).astype('float32')"
   ]
  },
  {
   "cell_type": "code",
   "execution_count": 12,
   "id": "3a2dd196-45f8-48e5-a497-06a86d20335e",
   "metadata": {},
   "outputs": [],
   "source": [
    "from keras import Input\n",
    "\n",
    "model = models.Sequential()\n",
    "model.add(Input(shape=(10000,)))\n",
    "model.add(layers.Dense(16, activation='relu'))\n",
    "model.add(layers.Dense(16, activation='relu'))\n",
    "model.add(layers.Dense(1, activation='sigmoid'))"
   ]
  },
  {
   "cell_type": "code",
   "execution_count": 13,
   "id": "17945442-6adc-4fe5-b843-8f67f362f50e",
   "metadata": {},
   "outputs": [],
   "source": [
    "model.compile(\n",
    "    optimizer= optimizers.RMSprop(learning_rate= 0.001),\n",
    "    loss= losses.binary_crossentropy,\n",
    "    metrics= [metrics.binary_accuracy]\n",
    ")"
   ]
  },
  {
   "cell_type": "code",
   "execution_count": 14,
   "id": "d0d23811-7515-4e59-abde-e1a8107e0ef8",
   "metadata": {},
   "outputs": [],
   "source": [
    "X_val= X_train[:10000]\n",
    "partial_X_train= X_train[10000:]\n",
    "y_val= y_train[:10000]\n",
    "partial_y_train= y_train[10000:]"
   ]
  },
  {
   "cell_type": "code",
   "execution_count": 15,
   "id": "1703b7a9-904a-486d-bacf-c7acb0ed91c4",
   "metadata": {},
   "outputs": [
    {
     "name": "stdout",
     "output_type": "stream",
     "text": [
      "Epoch 1/20\n",
      "\u001b[1m30/30\u001b[0m \u001b[32m━━━━━━━━━━━━━━━━━━━━\u001b[0m\u001b[37m\u001b[0m \u001b[1m7s\u001b[0m 157ms/step - binary_accuracy: 0.6884 - loss: 0.5950 - val_binary_accuracy: 0.8489 - val_loss: 0.4007\n",
      "Epoch 2/20\n",
      "\u001b[1m30/30\u001b[0m \u001b[32m━━━━━━━━━━━━━━━━━━━━\u001b[0m\u001b[37m\u001b[0m \u001b[1m1s\u001b[0m 14ms/step - binary_accuracy: 0.8929 - loss: 0.3354 - val_binary_accuracy: 0.8860 - val_loss: 0.3064\n",
      "Epoch 3/20\n",
      "\u001b[1m30/30\u001b[0m \u001b[32m━━━━━━━━━━━━━━━━━━━━\u001b[0m\u001b[37m\u001b[0m \u001b[1m1s\u001b[0m 15ms/step - binary_accuracy: 0.9187 - loss: 0.2399 - val_binary_accuracy: 0.8796 - val_loss: 0.3014\n",
      "Epoch 4/20\n",
      "\u001b[1m30/30\u001b[0m \u001b[32m━━━━━━━━━━━━━━━━━━━━\u001b[0m\u001b[37m\u001b[0m \u001b[1m1s\u001b[0m 14ms/step - binary_accuracy: 0.9366 - loss: 0.1920 - val_binary_accuracy: 0.8888 - val_loss: 0.2746\n",
      "Epoch 5/20\n",
      "\u001b[1m30/30\u001b[0m \u001b[32m━━━━━━━━━━━━━━━━━━━━\u001b[0m\u001b[37m\u001b[0m \u001b[1m1s\u001b[0m 16ms/step - binary_accuracy: 0.9444 - loss: 0.1623 - val_binary_accuracy: 0.8788 - val_loss: 0.2970\n",
      "Epoch 6/20\n",
      "\u001b[1m30/30\u001b[0m \u001b[32m━━━━━━━━━━━━━━━━━━━━\u001b[0m\u001b[37m\u001b[0m \u001b[1m1s\u001b[0m 14ms/step - binary_accuracy: 0.9560 - loss: 0.1387 - val_binary_accuracy: 0.8860 - val_loss: 0.2864\n",
      "Epoch 7/20\n",
      "\u001b[1m30/30\u001b[0m \u001b[32m━━━━━━━━━━━━━━━━━━━━\u001b[0m\u001b[37m\u001b[0m \u001b[1m0s\u001b[0m 14ms/step - binary_accuracy: 0.9673 - loss: 0.1096 - val_binary_accuracy: 0.8856 - val_loss: 0.2975\n",
      "Epoch 8/20\n",
      "\u001b[1m30/30\u001b[0m \u001b[32m━━━━━━━━━━━━━━━━━━━━\u001b[0m\u001b[37m\u001b[0m \u001b[1m0s\u001b[0m 13ms/step - binary_accuracy: 0.9745 - loss: 0.0935 - val_binary_accuracy: 0.8798 - val_loss: 0.3314\n",
      "Epoch 9/20\n",
      "\u001b[1m30/30\u001b[0m \u001b[32m━━━━━━━━━━━━━━━━━━━━\u001b[0m\u001b[37m\u001b[0m \u001b[1m0s\u001b[0m 14ms/step - binary_accuracy: 0.9732 - loss: 0.0907 - val_binary_accuracy: 0.8715 - val_loss: 0.3708\n",
      "Epoch 10/20\n",
      "\u001b[1m30/30\u001b[0m \u001b[32m━━━━━━━━━━━━━━━━━━━━\u001b[0m\u001b[37m\u001b[0m \u001b[1m1s\u001b[0m 14ms/step - binary_accuracy: 0.9812 - loss: 0.0734 - val_binary_accuracy: 0.8796 - val_loss: 0.3437\n",
      "Epoch 11/20\n",
      "\u001b[1m30/30\u001b[0m \u001b[32m━━━━━━━━━━━━━━━━━━━━\u001b[0m\u001b[37m\u001b[0m \u001b[1m1s\u001b[0m 14ms/step - binary_accuracy: 0.9864 - loss: 0.0611 - val_binary_accuracy: 0.8787 - val_loss: 0.3657\n",
      "Epoch 12/20\n",
      "\u001b[1m30/30\u001b[0m \u001b[32m━━━━━━━━━━━━━━━━━━━━\u001b[0m\u001b[37m\u001b[0m \u001b[1m0s\u001b[0m 14ms/step - binary_accuracy: 0.9883 - loss: 0.0542 - val_binary_accuracy: 0.8766 - val_loss: 0.3814\n",
      "Epoch 13/20\n",
      "\u001b[1m30/30\u001b[0m \u001b[32m━━━━━━━━━━━━━━━━━━━━\u001b[0m\u001b[37m\u001b[0m \u001b[1m1s\u001b[0m 14ms/step - binary_accuracy: 0.9919 - loss: 0.0437 - val_binary_accuracy: 0.8755 - val_loss: 0.4024\n",
      "Epoch 14/20\n",
      "\u001b[1m30/30\u001b[0m \u001b[32m━━━━━━━━━━━━━━━━━━━━\u001b[0m\u001b[37m\u001b[0m \u001b[1m1s\u001b[0m 15ms/step - binary_accuracy: 0.9921 - loss: 0.0410 - val_binary_accuracy: 0.8690 - val_loss: 0.4548\n",
      "Epoch 15/20\n",
      "\u001b[1m30/30\u001b[0m \u001b[32m━━━━━━━━━━━━━━━━━━━━\u001b[0m\u001b[37m\u001b[0m \u001b[1m0s\u001b[0m 14ms/step - binary_accuracy: 0.9950 - loss: 0.0320 - val_binary_accuracy: 0.8726 - val_loss: 0.4499\n",
      "Epoch 16/20\n",
      "\u001b[1m30/30\u001b[0m \u001b[32m━━━━━━━━━━━━━━━━━━━━\u001b[0m\u001b[37m\u001b[0m \u001b[1m0s\u001b[0m 14ms/step - binary_accuracy: 0.9962 - loss: 0.0269 - val_binary_accuracy: 0.8729 - val_loss: 0.4657\n",
      "Epoch 17/20\n",
      "\u001b[1m30/30\u001b[0m \u001b[32m━━━━━━━━━━━━━━━━━━━━\u001b[0m\u001b[37m\u001b[0m \u001b[1m1s\u001b[0m 15ms/step - binary_accuracy: 0.9970 - loss: 0.0247 - val_binary_accuracy: 0.8710 - val_loss: 0.4872\n",
      "Epoch 18/20\n",
      "\u001b[1m30/30\u001b[0m \u001b[32m━━━━━━━━━━━━━━━━━━━━\u001b[0m\u001b[37m\u001b[0m \u001b[1m1s\u001b[0m 15ms/step - binary_accuracy: 0.9978 - loss: 0.0209 - val_binary_accuracy: 0.8706 - val_loss: 0.5080\n",
      "Epoch 19/20\n",
      "\u001b[1m30/30\u001b[0m \u001b[32m━━━━━━━━━━━━━━━━━━━━\u001b[0m\u001b[37m\u001b[0m \u001b[1m1s\u001b[0m 14ms/step - binary_accuracy: 0.9971 - loss: 0.0199 - val_binary_accuracy: 0.8682 - val_loss: 0.5357\n",
      "Epoch 20/20\n",
      "\u001b[1m30/30\u001b[0m \u001b[32m━━━━━━━━━━━━━━━━━━━━\u001b[0m\u001b[37m\u001b[0m \u001b[1m0s\u001b[0m 14ms/step - binary_accuracy: 0.9979 - loss: 0.0177 - val_binary_accuracy: 0.8702 - val_loss: 0.5464\n"
     ]
    }
   ],
   "source": [
    "history= model.fit(\n",
    "    partial_X_train,\n",
    "    partial_y_train,\n",
    "    epochs= 20,\n",
    "    batch_size= 512,\n",
    "    validation_data=(X_val, y_val)\n",
    ")"
   ]
  },
  {
   "cell_type": "code",
   "execution_count": 16,
   "id": "3f3e6c2d-8be6-4dc2-8a24-1c022453d693",
   "metadata": {},
   "outputs": [
    {
     "data": {
      "text/plain": [
       "dict_keys(['binary_accuracy', 'loss', 'val_binary_accuracy', 'val_loss'])"
      ]
     },
     "execution_count": 16,
     "metadata": {},
     "output_type": "execute_result"
    }
   ],
   "source": [
    "history_dict= history.history\n",
    "history_dict.keys()"
   ]
  },
  {
   "cell_type": "code",
   "execution_count": 17,
   "id": "c6f29705-d489-4f1a-9c56-52303ec27932",
   "metadata": {},
   "outputs": [
    {
     "data": {
      "image/png": "[encoded data removed]",
      "text/plain": [
       "<Figure size 640x480 with 1 Axes>"
      ]
     },
     "metadata": {},
     "output_type": "display_data"
    }
   ],
   "source": [
    "loss_values= history_dict['loss']\n",
    "val_loss_values= history_dict['val_loss']\n",
    "epochs= range(1, len(loss_values) +1)\n",
    "plt.plot(epochs, loss_values, 'g', label=\"Training Loss\")\n",
    "plt.plot(epochs, val_loss_values, 'b', label=\"Validation Loss\")\n",
    "plt.title(\"Training and Validation Loss\")\n",
    "plt.xlabel=('Epochs')\n",
    "plt.ylabel=('Loss Value')\n",
    "plt.legend()\n",
    "plt.show()"
   ]
  },
  {
   "cell_type": "markdown",
   "id": "7210b213",
   "metadata": {},
   "source": [
    "\n",
    "# IMDb Sentiment Classification using Keras\n",
    "\n",
    "## ✅ 1. General Overview of the Code\n",
    "\n",
    "This project trains a neural network model to perform **binary sentiment classification** on movie reviews from the IMDb dataset. It predicts whether a given review is **positive or negative**.\n",
    "\n",
    "### Key Steps:\n",
    "1. **Data Loading & Preprocessing**\n",
    "   - Loads the IMDb dataset with the top 10,000 most frequent words.\n",
    "   - Reviews are integer sequences representing word indices.\n",
    "   - Sequences are vectorized into binary vectors (bag-of-words).\n",
    "\n",
    "2. **Model Definition**\n",
    "   - A `Sequential` neural network with two dense hidden layers using ReLU activation and one output layer with sigmoid activation.\n",
    "\n",
    "3. **Compilation**\n",
    "   - Optimizer: `RMSprop`\n",
    "   - Loss: `binary_crossentropy`\n",
    "   - Metric: `binary_accuracy`\n",
    "\n",
    "4. **Training**\n",
    "   - Training set is split into a smaller training set and a validation set.\n",
    "   - Model is trained for 20 epochs using a batch size of 512.\n",
    "\n",
    "5. **Visualization**\n",
    "   - Plots training vs validation loss to observe overfitting.\n",
    "\n",
    "---\n",
    "\n",
    "## ✅ 2. Explanation of Key Technologies Used\n",
    "\n",
    "### 🧠 Keras\n",
    "- **What it is**: High-level API for building and training neural networks, running on top of TensorFlow.\n",
    "- **Why used**: Simplifies deep learning model creation, experimentation, and deployment.\n",
    "- **Used for**: Model building (`Sequential`), layers (`Dense`), training (`fit`), and evaluation.\n",
    "\n",
    "---\n",
    "\n",
    "### 📊 IMDb Dataset (`keras.datasets.imdb`)\n",
    "- **What it is**: A dataset of 50,000 movie reviews, labeled as positive or negative.\n",
    "- **Why used**: Standard benchmark dataset for text classification tasks.\n",
    "- **Usage**:\n",
    "  ```python\n",
    "  (train_data, train_labels), (test_data, test_labels) = imdb.load_data(num_words=10000)\n",
    "  ```\n",
    "\n",
    "---\n",
    "\n",
    "### 🔡 Tokenization & Vectorization\n",
    "\n",
    "#### Tokenization:\n",
    "- Words are converted into integer indices based on frequency in the dataset.\n",
    "\n",
    "#### Vectorization:\n",
    "- Converts sequences into binary vectors of length 10,000 (bag-of-words).\n",
    "- `1` indicates the word is present; `0` indicates absence.\n",
    "\n",
    "#### Why this approach?\n",
    "- Enables fixed-size inputs for the neural network.\n",
    "- Simplifies model training and understanding.\n",
    "  \n",
    "**Alternative Methods**:\n",
    "- **Embedding layers**: For dense, low-dimensional word representations.\n",
    "- **Recurrent/Transformer models**: Preserve word order and context.\n",
    "\n",
    "---\n",
    "\n",
    "### 🧮 Neural Network Architecture\n",
    "\n",
    "```python\n",
    "model = models.Sequential()\n",
    "model.add(Input(shape=(10000,)))\n",
    "model.add(Dense(16, activation='relu'))\n",
    "model.add(Dense(16, activation='relu'))\n",
    "model.add(Dense(1, activation='sigmoid'))\n",
    "```\n",
    "\n",
    "- **Input**: 10,000-dimension binary vector.\n",
    "- **Hidden Layers**: Two layers, 16 units, ReLU activation.\n",
    "- **Output**: One neuron, sigmoid activation → binary classification.\n",
    "\n",
    "---\n",
    "\n",
    "### 🔧 Loss, Optimizer, Metrics\n",
    "\n",
    "```python\n",
    "model.compile(\n",
    "    optimizer=RMSprop(learning_rate=0.001),\n",
    "    loss='binary_crossentropy',\n",
    "    metrics=['binary_accuracy']\n",
    ")\n",
    "```\n",
    "\n",
    "- **Loss**: `binary_crossentropy` — appropriate for binary classification.\n",
    "- **Optimizer**: `RMSprop` — adaptive learning rate.\n",
    "- **Metrics**: `binary_accuracy` — evaluates correctness of predictions.\n",
    "\n",
    "---\n",
    "\n",
    "### 🧪 Validation Set\n",
    "\n",
    "- First 10,000 samples of training data are used as a **validation set**.\n",
    "- Helps monitor model generalization and avoid overfitting.\n",
    "\n",
    "---\n",
    "\n",
    "### 📈 Loss Curve Visualization\n",
    "\n",
    "```python\n",
    "plt.plot(epochs, loss_values, 'g', label=\"Training Loss\")\n",
    "plt.plot(epochs, val_loss_values, 'b', label=\"Validation Loss\")\n",
    "```\n",
    "\n",
    "- Helps identify overfitting: Validation loss increases while training loss decreases.\n",
    "\n",
    "---\n",
    "\n",
    "## ✅ Summary\n",
    "\n",
    "| Component     | Description                                      |\n",
    "|---------------|--------------------------------------------------|\n",
    "| Dataset        | IMDb movie reviews (binary: pos/neg)             |\n",
    "| Vectorization  | Bag-of-words binary vector (length 10,000)       |\n",
    "| Model          | Sequential MLP with 2 hidden layers (ReLU)       |\n",
    "| Output         | Sigmoid layer for binary classification          |\n",
    "| Optimizer      | RMSprop                                          |\n",
    "| Loss Function  | Binary Crossentropy                              |\n",
    "| Metric         | Binary Accuracy                                  |\n",
    "| Visualization  | Training vs Validation Loss Curve                |\n",
    "\n",
    "---\n",
    "\n",
    "## ✅ Optional Extensions\n",
    "\n",
    "- Replace vectorized inputs with an **Embedding layer** for dense word representation.\n",
    "- Use **LSTM** or **GRU** layers to capture sequential context.\n",
    "- Experiment with **dropout**, **batch normalization**, or **early stopping** to improve performance.\n",
    "\n",
    "---\n"
   ]
  }
 ],
 "metadata": {
  "kernelspec": {
   "display_name": "Python 3 (ipykernel)",
   "language": "python",
   "name": "python3"
  },
  "language_info": {
   "codemirror_mode": {
    "name": "ipython",
    "version": 3
   },
   "file_extension": ".py",
   "mimetype": "text/x-python",
   "name": "python",
   "nbconvert_exporter": "python",
   "pygments_lexer": "ipython3",
   "version": "3.12.0"
  }
 },
 "nbformat": 4,
 "nbformat_minor": 5
}
