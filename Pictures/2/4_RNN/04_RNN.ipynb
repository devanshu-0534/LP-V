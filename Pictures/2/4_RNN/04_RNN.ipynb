{
 "cells": [
  {
   "cell_type": "code",
   "execution_count": null,
   "id": "2ccd6d99-d657-42d5-a6c7-e9f2a008437d",
   "metadata": {},
   "outputs": [],
   "source": [
    "import numpy as np\n",
    "import pandas as pd\n",
    "import matplotlib.pyplot as plt\n",
    "from sklearn.preprocessing import MinMaxScaler\n",
    "from tensorflow.keras.models import Sequential\n",
    "from tensorflow.keras.layers import LSTM\n",
    "from tensorflow.keras.layers import Dense\n",
    "from tensorflow.keras.layers import Dropout"
   ]
  },
  {
   "cell_type": "code",
   "execution_count": null,
   "id": "262686a2-46ee-41fb-aa2b-ed120620b823",
   "metadata": {},
   "outputs": [],
   "source": [
    "dataset_train= pd.read_csv('Google_Stock_Train.csv')"
   ]
  },
  {
   "cell_type": "code",
   "execution_count": null,
   "id": "1c73885a-c1b1-4c05-bbda-59031061442b",
   "metadata": {},
   "outputs": [],
   "source": [
    "dataset_train.head(10)"
   ]
  },
  {
   "cell_type": "code",
   "execution_count": null,
   "id": "02dcbb3e-8250-43c9-80b9-efd478524084",
   "metadata": {},
   "outputs": [],
   "source": [
    "training_set= dataset_train.iloc[:, 1:2].values"
   ]
  },
  {
   "cell_type": "code",
   "execution_count": null,
   "id": "f56538b8-2ffc-4487-84b9-11848c7db2ac",
   "metadata": {},
   "outputs": [],
   "source": [
    "training_set"
   ]
  },
  {
   "cell_type": "code",
   "execution_count": null,
   "id": "11d74120-8a9a-40ba-935c-99a4c81b85e2",
   "metadata": {},
   "outputs": [],
   "source": [
    "training_set.shape"
   ]
  },
  {
   "cell_type": "code",
   "execution_count": null,
   "id": "13a339a3-072e-445b-9616-e0a614e5d2f3",
   "metadata": {},
   "outputs": [],
   "source": [
    "plt.figure(figsize=(18,8))\n",
    "plt.plot(dataset_train['Open'])\n",
    "plt.title(\"Google Stock Open Prices\")\n",
    "plt.xlabel(\"Time(oldest->latest)\")\n",
    "plt.ylabel(\"Stock Open Price\")\n",
    "plt.show()"
   ]
  },
  {
   "cell_type": "code",
   "execution_count": null,
   "id": "5fffb117-53cc-4481-b01a-a307cf448c53",
   "metadata": {},
   "outputs": [],
   "source": [
    "sc= MinMaxScaler(feature_range=(0,1))\n",
    "training_set_scaled= sc.fit_transform(training_set)"
   ]
  },
  {
   "cell_type": "code",
   "execution_count": null,
   "id": "f7aa576d-6d5f-403d-836c-c961a1306327",
   "metadata": {},
   "outputs": [],
   "source": [
    "X_train= []\n",
    "y_train= []\n",
    "for i in range(60, len(training_set_scaled)):\n",
    "    X_train.append(training_set_scaled[i-60: i, 0])\n",
    "    y_train.append(training_set_scaled[i, 0])\n",
    "X_train, y_train= np.array(X_train), np.array(y_train)"
   ]
  },
  {
   "cell_type": "code",
   "execution_count": null,
   "id": "d4bc87f4-9856-41e0-bef5-503fd7eaf9ab",
   "metadata": {},
   "outputs": [],
   "source": [
    "X_train[0]"
   ]
  },
  {
   "cell_type": "code",
   "execution_count": null,
   "id": "87fa24d6-ece0-4310-8593-a6d1b295c8d1",
   "metadata": {},
   "outputs": [],
   "source": [
    "y_train[0]"
   ]
  },
  {
   "cell_type": "code",
   "execution_count": null,
   "id": "8ba198fb-057b-4669-8b65-475da93e7940",
   "metadata": {},
   "outputs": [],
   "source": [
    "X_train= np.reshape(X_train, newshape=(X_train.shape[0], X_train.shape[1], 1))"
   ]
  },
  {
   "cell_type": "code",
   "execution_count": null,
   "id": "f144a373-389f-429e-8d9a-a3ba5195d46e",
   "metadata": {},
   "outputs": [],
   "source": [
    "X_train.shape"
   ]
  },
  {
   "cell_type": "code",
   "execution_count": null,
   "id": "d2c2e4fd-3bd0-4179-a807-2aa378101cbb",
   "metadata": {},
   "outputs": [],
   "source": [
    "from tensorflow.keras.layers import Input\n",
    "\n",
    "regressor = Sequential()\n",
    "regressor.add(Input(shape=(X_train.shape[1], 1)))  # Input layer\n",
    "regressor.add(LSTM(units=50, return_sequences=True))\n",
    "regressor.add(Dropout(rate=0.2))\n",
    "\n",
    "regressor.add(LSTM(units=50, return_sequences=True))\n",
    "regressor.add(Dropout(rate=0.2))\n",
    "\n",
    "regressor.add(LSTM(units=50, return_sequences=True))\n",
    "regressor.add(Dropout(rate=0.2))\n",
    "\n",
    "regressor.add(LSTM(units=50, return_sequences=False))\n",
    "regressor.add(Dropout(rate=0.2))\n",
    "\n",
    "regressor.add(Dense(units=1))"
   ]
  },
  {
   "cell_type": "code",
   "execution_count": null,
   "id": "2458ed72-eb5a-4865-9842-fb82bf2ada8d",
   "metadata": {},
   "outputs": [],
   "source": [
    "regressor.compile(optimizer='adam', loss='mean_squared_error')"
   ]
  },
  {
   "cell_type": "code",
   "execution_count": null,
   "id": "3d7c4f70-4db4-41bf-8c84-b4962450f54e",
   "metadata": {},
   "outputs": [
    {
     "name": "stdout",
     "output_type": "stream",
     "text": [
      "\u001b[1m101/101\u001b[0m \u001b[32m━━━━━━━━━━━━━━━━━━━━\u001b[0m\u001b[37m\u001b[0m \u001b[1m12s\u001b[0m 117ms/step - loss: 0.0011\n",
      "Epoch 22/100\n",
      "\u001b[1m  1/101\u001b[0m \u001b[37m━━━━━━━━━━━━━━━━━━━━\u001b[0m \u001b[1m18s\u001b[0m 187ms/step - loss: 7.9121e-04"
     ]
    }
   ],
   "source": [
    "regressor.fit(x=X_train, y=y_train, batch_size=32, epochs=100)"
   ]
  },
  {
   "cell_type": "code",
   "execution_count": null,
   "id": "3c533e80-07e4-4fab-bac0-54024153bf7c",
   "metadata": {},
   "outputs": [],
   "source": [
    "regressor.summary()"
   ]
  },
  {
   "cell_type": "code",
   "execution_count": null,
   "id": "1518d636-329c-4e3f-a536-2269fac848f5",
   "metadata": {},
   "outputs": [],
   "source": [
    "dataset_test= pd.read_csv('Google_Stock_Test.csv')"
   ]
  },
  {
   "cell_type": "code",
   "execution_count": null,
   "id": "3369976e-4da0-4e7e-8a1e-d6103835c600",
   "metadata": {},
   "outputs": [],
   "source": [
    "dataset_test.head()"
   ]
  },
  {
   "cell_type": "code",
   "execution_count": null,
   "id": "6a13011e-634f-4a5a-b088-bc340cee62f2",
   "metadata": {},
   "outputs": [],
   "source": [
    "dataset_total= pd.concat((dataset_train['Open'], dataset_test['Open']), axis= 0)\n",
    "inputs= dataset_total[len(dataset_total)-len(dataset_test) -60:].values"
   ]
  },
  {
   "cell_type": "code",
   "execution_count": null,
   "id": "a2f6bef0-525e-4b61-8bb0-8e26c5be2ed4",
   "metadata": {},
   "outputs": [],
   "source": [
    "inputs= inputs.reshape(-1,1)\n",
    "inputs=sc.transform(inputs)"
   ]
  },
  {
   "cell_type": "code",
   "execution_count": null,
   "id": "8a570732-4bf7-44c0-88b2-a72e1066bd2d",
   "metadata": {},
   "outputs": [],
   "source": [
    "len(inputs)"
   ]
  },
  {
   "cell_type": "code",
   "execution_count": null,
   "id": "1e9be16a-2edc-4553-ab40-c013fad1e2e8",
   "metadata": {},
   "outputs": [],
   "source": [
    "X_test= []\n",
    "for i in range(60, len(inputs)):\n",
    "    X_test.append(inputs[i-60:i, 0])\n",
    "X_test= np.array(X_test)\n",
    "X_test= np.reshape(X_test, (X_test.shape[0], X_test.shape[1], 1))"
   ]
  },
  {
   "cell_type": "code",
   "execution_count": null,
   "id": "5e38a90c-7943-4aa5-853d-2bfd3f7a872e",
   "metadata": {},
   "outputs": [],
   "source": [
    "X_test.shape"
   ]
  },
  {
   "cell_type": "code",
   "execution_count": null,
   "id": "6d128728-1e88-43b5-a3cd-d06dc752c0a4",
   "metadata": {},
   "outputs": [],
   "source": [
    "predicted_stock_price= regressor.predict(X_test)"
   ]
  },
  {
   "cell_type": "code",
   "execution_count": null,
   "id": "7df830c6-5370-4227-8ed8-afc951ed7d39",
   "metadata": {},
   "outputs": [],
   "source": [
    "predicted_stock_price= sc.inverse_transform(predicted_stock_price)"
   ]
  },
  {
   "cell_type": "code",
   "execution_count": null,
   "id": "c222f76a-4fe1-4e70-8bbe-f57f64569748",
   "metadata": {},
   "outputs": [],
   "source": [
    "plt.plot(real_stock_price, color='red', label='Real price')\n",
    "plt.plot(predicted_stock_price, color='blue', label='Predicted price')\n",
    "plt.title('Google Price Prediction')\n",
    "plt.xlabel('Time')\n",
    "plt.ylabel('Price')\n",
    "plt.legend()\n",
    "plt.show()"
   ]
  },
  {
   "cell_type": "markdown",
   "id": "53001346",
   "metadata": {},
   "source": [
    "# 🧠 How the Code Uses RNN\n",
    "\n",
    "Even though the code does not directly mention \"RNN\", it **uses Recurrent Neural Network (RNN) concepts** by implementing **LSTM layers**, which are an advanced type of RNN.\n",
    "\n",
    "---\n",
    "\n",
    "## 🔄 What is an RNN?\n",
    "\n",
    "**Recurrent Neural Networks (RNNs)** are designed to handle **sequential data**, such as time series or natural language. Unlike traditional neural networks, RNNs have **memory**—they pass information (hidden states) from one step to the next in the sequence, allowing them to learn **temporal dependencies**.\n",
    "\n",
    "However, basic RNNs struggle with **long-term dependencies** due to the **vanishing/exploding gradient problem**.\n",
    "\n",
    "---\n",
    "\n",
    "## 🔒 What is LSTM (Long Short-Term Memory)?\n",
    "\n",
    "**LSTM** is a special type of RNN that introduces:\n",
    "\n",
    "- **Memory Cells**: Maintain information over long sequences.\n",
    "- **Gates**: Control the flow of information (input gate, forget gate, output gate).\n",
    "\n",
    "LSTMs effectively solve the vanishing gradient problem and are widely used in:\n",
    "\n",
    "- Stock price prediction\n",
    "- Language modeling\n",
    "- Speech recognition\n",
    "- Weather forecasting\n",
    "\n",
    "---\n",
    "\n",
    "## 🔍 How LSTM Implements RNN in the Code\n",
    "\n",
    "Your model uses LSTM layers like this:\n",
    "\n",
    "```python\n",
    "regressor.add(LSTM(units=50, return_sequences=True))\n",
    "```\n",
    "\n",
    "This means:\n",
    "- The model processes **sequences of 60 days** of stock prices.\n",
    "- It **remembers previous steps** and learns from them.\n",
    "- It models **temporal dependencies** using recurrent behavior.\n",
    "\n",
    "The input is reshaped as:\n",
    "\n",
    "```python\n",
    "X_train = np.reshape(X_train, (X_train.shape[0], X_train.shape[1], 1))\n",
    "```\n",
    "\n",
    "Which gives the shape `(samples, time steps, features)` — the required input for any RNN/LSTM-based architecture.\n",
    "\n",
    "---\n",
    "\n",
    "## 🏗️ Stacked LSTM = Deep RNN\n",
    "\n",
    "You use **4 LSTM layers**, which means you're building a **deep RNN architecture** that can learn complex patterns at different levels:\n",
    "\n",
    "```python\n",
    "regressor.add(LSTM(units=50, return_sequences=True))\n",
    "regressor.add(Dropout(rate=0.2))\n",
    "...\n",
    "```\n",
    "\n",
    "The output of one LSTM is passed to the next, allowing the model to capture both **short-term and long-term dependencies**.\n",
    "\n",
    "---\n",
    "\n",
    "## 📊 Conceptual Flow of the Model\n",
    "\n",
    "```\n",
    "[Price_t-60, ..., Price_t-1] \n",
    "       ↓\n",
    "    LSTM Layer 1\n",
    "       ↓\n",
    "    LSTM Layer 2\n",
    "       ↓\n",
    "    LSTM Layer 3\n",
    "       ↓\n",
    "    LSTM Layer 4\n",
    "       ↓\n",
    "    Dense Layer (Output)\n",
    "       ↓\n",
    " Predicted Price_t\n",
    "```\n",
    "\n",
    "---\n",
    "\n",
    "## ✅ Summary: RNN in Action\n",
    "\n",
    "| Feature                | RNN Concept               | Your Code Usage                           |\n",
    "|------------------------|---------------------------|--------------------------------------------|\n",
    "| Sequence modeling      | ✅                         | 60 time steps as input                     |\n",
    "| Temporal memory        | ✅                         | LSTM layers remember previous steps        |\n",
    "| Gradient issues fixed  | ❌ (Vanilla RNN) → ✅ (LSTM) | LSTM gates solve vanishing gradient        |\n",
    "| Stacked architecture   | ✅                         | 4 LSTM layers form a deep RNN              |\n",
    "| Prediction output      | ✅                         | Dense layer produces one stock price       |\n",
    "\n",
    "---\n",
    "\n",
    "### 📎 TL;DR\n",
    "\n",
    "Your model **is an RNN**, implemented using **LSTM layers**, which provide better performance on time-series data by retaining long-term dependencies, controlling memory via gates, and avoiding training problems found in vanilla RNNs.\n",
    "\n"
   ]
  }
 ],
 "metadata": {
  "kernelspec": {
   "display_name": "Python 3 (ipykernel)",
   "language": "python",
   "name": "python3"
  },
  "language_info": {
   "codemirror_mode": {
    "name": "ipython",
    "version": 3
   },
   "file_extension": ".py",
   "mimetype": "text/x-python",
   "name": "python",
   "nbconvert_exporter": "python",
   "pygments_lexer": "ipython3",
   "version": "3.12.0"
  }
 },
 "nbformat": 4,
 "nbformat_minor": 5
}
